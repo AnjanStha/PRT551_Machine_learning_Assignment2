{
 "cells": [
  {
   "cell_type": "code",
   "execution_count": 98,
   "id": "af91dfbe",
   "metadata": {},
   "outputs": [],
   "source": [
    "import pandas as pd   # for data manipulation\n",
    "import matplotlib.pyplot as plt  ## for plotting graph\n",
    "import numpy as np   ## for numerical operation and custom DNN\n",
    "from sklearn.model_selection import train_test_split  ## for slitting data\n",
    "from sklearn.linear_model import LogisticRegression  ## Logistic Regression Model\n",
    "from sklearn.tree import DecisionTreeClassifier  ## for decision Tree model\n",
    "from sklearn.ensemble import RandomForestClassifier   ## for Random Forest model\n",
    "from sklearn.metrics import accuracy_score, classification_report ## for evaluatoiin\n",
    "from sklearn.impute import SimpleImputer   ## Handling missing values\n",
    "from sklearn.preprocessing import OneHotEncoder, StandardScaler, LabelEncoder ## for encoding and scallingsk\n",
    "from  sklearn.compose import ColumnTransformer ## For Streamlinedf preproceesing\n",
    "import seaborn as sns ## for enhanced visualizations\n",
    "from category_encoders import TargetEncoder  # For alternative encoding\n",
    "\n",
    "from sklearn.compose import ColumnTransformer  # For preprocessing pipelines\n",
    "from sklearn.pipeline import Pipeline  # For streamlined preprocessing\n",
    "\n"
   ]
  },
  {
   "cell_type": "code",
   "execution_count": 99,
   "id": "aaa328c7",
   "metadata": {},
   "outputs": [],
   "source": [
    "## Set seaborn style for good visuals\n",
    "sns.set(style= \"whitegrid\")"
   ]
  },
  {
   "cell_type": "code",
   "execution_count": 100,
   "id": "a800ffed",
   "metadata": {},
   "outputs": [
    {
     "name": "stdout",
     "output_type": "stream",
     "text": [
      "   age  workclass  fnlwgt     education  education-num  marital-status  \\\n",
      "0  age  workclass  fnlwgt     education  education.num  marital.status   \n",
      "1   90          ?   77053       HS-grad              9         Widowed   \n",
      "2   82    Private  132870       HS-grad              9         Widowed   \n",
      "3   66          ?  186061  Some-college             10         Widowed   \n",
      "4   54    Private  140359       7th-8th              4        Divorced   \n",
      "\n",
      "          occupation   relationship   race     sex  capital-gain  \\\n",
      "0         occupation   relationship   race     sex  capital.gain   \n",
      "1                  ?  Not-in-family  White  Female             0   \n",
      "2    Exec-managerial  Not-in-family  White  Female             0   \n",
      "3                  ?      Unmarried  Black  Female             0   \n",
      "4  Machine-op-inspct      Unmarried  White  Female             0   \n",
      "\n",
      "   capital-loss  hours-per-week  native-country  income  \n",
      "0  capital.loss  hours.per.week  native.country  income  \n",
      "1          4356              40   United-States   <=50K  \n",
      "2          4356              18   United-States   <=50K  \n",
      "3          4356              40   United-States   <=50K  \n",
      "4          3900              40   United-States   <=50K  \n"
     ]
    }
   ],
   "source": [
    "## Load the data form csv file\n",
    "column_names = [\n",
    "    'age', 'workclass', 'fnlwgt', 'education', 'education-num', 'marital-status',\n",
    "    'occupation', 'relationship', 'race', 'sex', 'capital-gain', 'capital-loss',\n",
    "    'hours-per-week', 'native-country', 'income'\n",
    "]\n",
    "## fnlwgt => Final weight of the Record ( number of people represented by this row)\n",
    "\n",
    "df = pd.read_csv(\"adult.csv\", header=None, names = column_names, na_values=' ?', skipinitialspace= True)\n",
    "df2= df.copy()\n",
    "\n",
    "print(df.head())\n",
    "\n",
    "##show all column\n",
    "pd.set_option('display.max_columns', None)\n",
    "#df."
   ]
  },
  {
   "cell_type": "code",
   "execution_count": 101,
   "id": "738b6154",
   "metadata": {},
   "outputs": [
    {
     "name": "stdout",
     "output_type": "stream",
     "text": [
      "\n",
      " Dataset Inofromattion\n",
      "<class 'pandas.core.frame.DataFrame'>\n",
      "RangeIndex: 32562 entries, 0 to 32561\n",
      "Data columns (total 15 columns):\n",
      " #   Column          Non-Null Count  Dtype \n",
      "---  ------          --------------  ----- \n",
      " 0   age             32562 non-null  object\n",
      " 1   workclass       32562 non-null  object\n",
      " 2   fnlwgt          32562 non-null  object\n",
      " 3   education       32562 non-null  object\n",
      " 4   education-num   32562 non-null  object\n",
      " 5   marital-status  32562 non-null  object\n",
      " 6   occupation      32562 non-null  object\n",
      " 7   relationship    32562 non-null  object\n",
      " 8   race            32562 non-null  object\n",
      " 9   sex             32562 non-null  object\n",
      " 10  capital-gain    32562 non-null  object\n",
      " 11  capital-loss    32562 non-null  object\n",
      " 12  hours-per-week  32562 non-null  object\n",
      " 13  native-country  32562 non-null  object\n",
      " 14  income          32562 non-null  object\n",
      "dtypes: object(15)\n",
      "memory usage: 3.7+ MB\n",
      "\n",
      " Statistiacal Summary \n",
      "          age workclass  fnlwgt education education-num      marital-status  \\\n",
      "count   32562     32562   32562     32562         32562               32562   \n",
      "unique     74        10   21649        17            17                   8   \n",
      "top        36   Private  164190   HS-grad             9  Married-civ-spouse   \n",
      "freq      898     22696      13     10501         10501               14976   \n",
      "\n",
      "            occupation relationship   race    sex capital-gain capital-loss  \\\n",
      "count            32562        32562  32562  32562        32562        32562   \n",
      "unique              16            7      6      3          120           93   \n",
      "top     Prof-specialty      Husband  White   Male            0            0   \n",
      "freq              4140        13193  27816  21790        29849        31042   \n",
      "\n",
      "       hours-per-week native-country income  \n",
      "count           32562          32562  32562  \n",
      "unique             95             43      3  \n",
      "top                40  United-States  <=50K  \n",
      "freq            15217          29170  24720  \n",
      "\n",
      "Missing Values:\n",
      "age               0\n",
      "workclass         0\n",
      "fnlwgt            0\n",
      "education         0\n",
      "education-num     0\n",
      "marital-status    0\n",
      "occupation        0\n",
      "relationship      0\n",
      "race              0\n",
      "sex               0\n",
      "capital-gain      0\n",
      "capital-loss      0\n",
      "hours-per-week    0\n",
      "native-country    0\n",
      "income            0\n",
      "dtype: int64\n",
      "\n",
      " Income Distribution \n",
      "income\n",
      "<=50K     0.759167\n",
      ">50K      0.240802\n",
      "income    0.000031\n",
      "Name: proportion, dtype: float64\n"
     ]
    }
   ],
   "source": [
    "### Data Exploration Step\n",
    "###############################\n",
    "## check for missing Value,\n",
    "##  Garbage/Invalid data \n",
    "## Distribution, Correlations, onte outlines\n",
    "\n",
    "print(\"\\n Dataset Inofromattion\")\n",
    "df.info()   ## show data type and missing vlaue\n",
    "\n",
    "print(\"\\n Statistiacal Summary \")\n",
    "print(df.describe())  ## provides Summary stats\n",
    "\n",
    "print(\"\\nMissing Values:\")\n",
    "print(df.isnull().sum())\n",
    "\n",
    "print(\"\\n Income Distribution \")\n",
    "print(df['income'].value_counts(normalize=True))\n",
    "\n",
    "### finding of the Data Exploration \n",
    "###  Total rows => 32 562\n",
    "###  total column => 15  all column are object type\n",
    "###   we need to convert numeric column to proper numeric type for analysis\n",
    "\n",
    "## Statistical Summary\n",
    "### age => 74 unique vlaues , most frequent 36 (appears 898)\n",
    "## workclass => 10 categories, modt common Prvate(22,696 people)\n",
    "## education => 17 categories, most common HS-grad(10,501 people)\\\n",
    "## marital-status => 8 categories, most common Married-civ-spouse(14,976 people)\n",
    "## occupation: 16 caategories, Most common  Prof-specialty (4,140 people)\n",
    "## relationship : 7 categoies , Most common Husband(13,193)\n",
    "## race : 6 categories, most common White(21,790)\n",
    "## sex: 3 categories, most common Male(21,790)\n",
    "## capliltal-gain : monstly zero(29849 people enter 0), few people reports\n",
    "## capliltal-loss : monstly zero(31042 people enter 0), few people reports\n",
    "## hours-per-week : 95 unique values, most common 40 h/week (15,217 people)\n",
    "## native-country : 43 categories, most common united states(29,170 pople)\n",
    "\n",
    "## no missing value detected in any column (but there would be garbage value in any column)\n",
    "\n",
    "### Income Distribution\n",
    "### <= 50k == 75.9%\n",
    "### >50k   == 24.1%\n",
    "### income == 0.003%\n"
   ]
  },
  {
   "cell_type": "code",
   "execution_count": 102,
   "id": "ff4dcacc",
   "metadata": {},
   "outputs": [
    {
     "name": "stdout",
     "output_type": "stream",
     "text": [
      "age               0\n",
      "workclass         0\n",
      "fnlwgt            0\n",
      "education         0\n",
      "education-num     0\n",
      "marital-status    0\n",
      "occupation        0\n",
      "relationship      0\n",
      "race              0\n",
      "sex               0\n",
      "capital-gain      0\n",
      "capital-loss      0\n",
      "hours-per-week    0\n",
      "native-country    0\n",
      "income            0\n",
      "dtype: int64\n"
     ]
    }
   ],
   "source": [
    "print(df.isna().sum())"
   ]
  },
  {
   "cell_type": "code",
   "execution_count": 103,
   "id": "a1818884",
   "metadata": {},
   "outputs": [
    {
     "data": {
      "image/png": "[encoded data removed]",
      "text/plain": [
       "<Figure size 600x400 with 1 Axes>"
      ]
     },
     "metadata": {},
     "output_type": "display_data"
    }
   ],
   "source": [
    "# Visualize target class distribution\n",
    "plt.figure(figsize=(6, 4))\n",
    "sns.countplot(x='income', data=df)\n",
    "plt.title('Income Class Distribution')\n",
    "plt.show()"
   ]
  },
  {
   "cell_type": "code",
   "execution_count": 104,
   "id": "6d8f12d2",
   "metadata": {},
   "outputs": [
    {
     "name": "stdout",
     "output_type": "stream",
     "text": [
      "\n",
      "✅ Shape after cleaning: (32561, 15)\n",
      "Missing Values After Preprocessing Steps 3.1–3.4:\n",
      "age               0\n",
      "workclass         0\n",
      "fnlwgt            0\n",
      "education         0\n",
      "education-num     0\n",
      "marital-status    0\n",
      "occupation        0\n",
      "relationship      0\n",
      "race              0\n",
      "sex               0\n",
      "capital-gain      0\n",
      "capital-loss      0\n",
      "hours-per-week    0\n",
      "native-country    0\n",
      "income            0\n",
      "dtype: int64\n"
     ]
    }
   ],
   "source": [
    "# Step 3: Data Preprocessing (Incorporating Your Code with Fixes)\n",
    "# Explanation: Apply your preprocessing steps (3.1–3.4), fix errors, and handle invalid rows like row 0.\n",
    "# Then complete preprocessing with scaling and encoding.\n",
    "\n",
    "# 3.1: Convert columns to proper data types\n",
    "# Explanation: Ensure numerical columns are float/int, categorical remain strings.\n",
    "# Use errors='coerce' to handle invalid values. Fixes TypeError for age filtering.\n",
    "numerical_cols = ['age', 'fnlwgt', 'education-num', 'capital-gain', 'capital-loss', 'hours-per-week']\n",
    "for col in numerical_cols:\n",
    "    try:\n",
    "        df[col] = pd.to_numeric(df[col], errors='coerce')\n",
    "    except:\n",
    "        print(f\"Failed to convert {col} to numeric\")\n",
    "\n",
    "# 3.2: Handle \" ?\" as missing values\n",
    "# Explanation: Mark \" ?\" as NaN. In the sample, workclass=\" ?\", occupation=\" ?\" in rows 1, 3.\n",
    "# Replace both versions just to be safe\n",
    "df.replace([\"?\", \" ?\"], np.nan, inplace=True)\n",
    "\n",
    "# 3.3: Fill missing values\n",
    "# Explanation: Impute numerical with median, categorical with mode, using direct assignment to avoid chained assignment warning.\n",
    "# Example row: workclass=\" ?\", occupation=\" ?\" imputed with mode (e.g., \"Private\").\n",
    "for col in df.columns:\n",
    "    if col in numerical_cols:\n",
    "        df[col] = df[col].fillna(df[col].median())\n",
    "    else:\n",
    "        df[col] = df[col].fillna(df[col].mode()[0])\n",
    "\n",
    "# 3.4: Remove garbage rows\n",
    "# Explanation: Filter age <= 0. All sample rows have age > 0 (e.g., 90, 82), so none removed.\n",
    "if \"age\" in df.columns:\n",
    "    df = df[df[\"age\"] > 0]\n",
    "# Ensure valid income values\n",
    "df = df[df[\"income\"].isin([\"<=50K\", \">50K\"])]\n",
    "\n",
    "print(\"\\n✅ Shape after cleaning:\", df.shape)\n",
    "print(\"Missing Values After Preprocessing Steps 3.1–3.4:\")\n",
    "print(df.isnull().sum())\n",
    "\n",
    "\n",
    "\n"
   ]
  },
  {
   "cell_type": "code",
   "execution_count": 107,
   "id": "dff9a475",
   "metadata": {},
   "outputs": [
    {
     "name": "stdout",
     "output_type": "stream",
     "text": [
      "    age workclass    fnlwgt     education  education-num marital-status  \\\n",
      "1  90.0   Private   77053.0       HS-grad            9.0        Widowed   \n",
      "2  82.0   Private  132870.0       HS-grad            9.0        Widowed   \n",
      "3  66.0   Private  186061.0  Some-college           10.0        Widowed   \n",
      "4  54.0   Private  140359.0       7th-8th            4.0       Divorced   \n",
      "5  41.0   Private  264663.0  Some-college           10.0      Separated   \n",
      "\n",
      "          occupation   relationship   race     sex  capital-gain  \\\n",
      "1     Prof-specialty  Not-in-family  White  Female           0.0   \n",
      "2    Exec-managerial  Not-in-family  White  Female           0.0   \n",
      "3     Prof-specialty      Unmarried  Black  Female           0.0   \n",
      "4  Machine-op-inspct      Unmarried  White  Female           0.0   \n",
      "5     Prof-specialty      Own-child  White  Female           0.0   \n",
      "\n",
      "   capital-loss  hours-per-week native-country income  \n",
      "1        4356.0            40.0  United-States  <=50K  \n",
      "2        4356.0            18.0  United-States  <=50K  \n",
      "3        4356.0            40.0  United-States  <=50K  \n",
      "4        3900.0            40.0  United-States  <=50K  \n",
      "5        3900.0            40.0  United-States  <=50K  \n"
     ]
    }
   ],
   "source": [
    "### Compare both df and  preprocess data \n",
    "print(df.head())\n",
    "\n",
    "##show all column\n",
    "pd.set_option('display.max_columns', None)\n",
    "#df."
   ]
  },
  {
   "cell_type": "code",
   "execution_count": null,
   "id": "8635e4bc",
   "metadata": {},
   "outputs": [],
   "source": []
  },
  {
   "cell_type": "code",
   "execution_count": 113,
   "id": "29181b0e",
   "metadata": {},
   "outputs": [],
   "source": [
    "# 3.5: Further preprocessing for modeling\n",
    "# Explanation: Scale numerical features, one-hot encode categorical features for low cardinality cols\n",
    "# for high cardinality cols used Target incoder\n",
    "# Example row: age=90, fnlwgt=77053 scaled; HS-grad, Widowed encoded.\n",
    "#categorical_cols = ['workclass', 'education', 'marital-status', 'occupation', 'relationship', 'race', 'sex', 'native-country']\n",
    "\n",
    "\n",
    "low_cardinality_cols = ['workclass', 'education', 'marital-status', 'occupation', 'relationship', 'race', 'sex']\n",
    "high_cardinality_cols = ['native-country']\n",
    "\n",
    "# Encode target variable\n",
    "le = LabelEncoder()\n",
    "df['income'] = le.fit_transform(df['income'])  # \"<=50K\" -> 0, \">50K\" -> 1\n",
    "\n",
    "# Separate features and target\n",
    "X = df.drop('income', axis=1)\n",
    "y = df['income']\n",
    "\n",
    "\n",
    "# Apply TargetEncoder for native-country\n",
    "target_encoder = TargetEncoder(cols=['native-country'])\n",
    "X['native-country'] = target_encoder.fit_transform(X['native-country'], y)\n",
    "\n",
    "# Define ColumnTransformer for remaining columns\n",
    "num_transformer = Pipeline(steps=[\n",
    "    ('scaler', StandardScaler())  # Scale numerical features\n",
    "])\n",
    "\n",
    "cat_transformer = Pipeline(steps=[\n",
    "    ('onehot', OneHotEncoder(handle_unknown='ignore', sparse_output=False))  # One-hot encode\n",
    "])\n",
    "\n",
    "preprocessor = ColumnTransformer(\n",
    "    transformers=[\n",
    "        ('num', num_transformer, numerical_cols),\n",
    "        ('cat', cat_transformer, categorical_cols),\n",
    "        ('pass', 'passthrough', high_cardinality_cols)  # Pass native-country (already encoded)\n",
    "    ])\n",
    "\n",
    "# Apply preprocessing\n",
    "try:\n",
    "    X_preprocessed = preprocessor.fit_transform(X)\n",
    "except ValueError as e:\n",
    "    print(f\"Error in preprocessing: {e}\")\n",
    "    for col in numerical_cols:\n",
    "        non_numeric = X[col][~X[col].apply(lambda x: isinstance(x, (int, float)) | pd.isna(x))]\n",
    "        if not non_numeric.empty:\n",
    "            print(f\"Non-numeric in {col}:\", non_numeric)\n",
    "    raise\n"
   ]
  },
  {
   "cell_type": "code",
   "execution_count": null,
   "id": "473c0d73",
   "metadata": {},
   "outputs": [],
   "source": [
    "### Compare both df and  preprocess data \n",
    "print(df2.head())\n",
    "\n",
    "##show all column\n",
    "pd.set_option('display.max_columns', None)\n",
    "#df."
   ]
  },
  {
   "cell_type": "code",
   "execution_count": null,
   "id": "d5e3b52c",
   "metadata": {},
   "outputs": [],
   "source": [
    "print(df.head())\n",
    "\n",
    "##show all column\n",
    "pd.set_option('display.max_columns', None)\n",
    "#df."
   ]
  },
  {
   "cell_type": "code",
   "execution_count": 115,
   "id": "4e14886c",
   "metadata": {},
   "outputs": [
    {
     "name": "stdout",
     "output_type": "stream",
     "text": [
      "\n",
      "Training set shape: (26048, 106)\n",
      "Testing set shape: (6513, 106)\n"
     ]
    }
   ],
   "source": [
    "# Step 4: Split data into train and test sets\n",
    "if len(df) < 100:\n",
    "    print(\"\\n⚠️ Warning: Small sample size may lead to unreliable model performance.\")\n",
    "X_train, X_test, y_train, y_test = train_test_split(X_preprocessed, y, test_size=0.2, random_state=42, stratify=y)\n",
    "\n",
    "print(\"\\nTraining set shape:\", X_train.shape)\n",
    "print(\"Testing set shape:\", X_test.shape)"
   ]
  }
 ],
 "metadata": {
  "kernelspec": {
   "display_name": "mechin",
   "language": "python",
   "name": "python3"
  },
  "language_info": {
   "codemirror_mode": {
    "name": "ipython",
    "version": 3
   },
   "file_extension": ".py",
   "mimetype": "text/x-python",
   "name": "python",
   "nbconvert_exporter": "python",
   "pygments_lexer": "ipython3",
   "version": "3.10.18"
  }
 },
 "nbformat": 4,
 "nbformat_minor": 5
}
